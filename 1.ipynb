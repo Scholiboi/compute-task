{
 "cells": [
  {
   "cell_type": "code",
   "execution_count": 202,
   "metadata": {},
   "outputs": [],
   "source": [
    "name_list = [\"Orion\", \"Barracuda\", \"Amethyst\", \"Blade\", \"Wasp\", \"Nemesis\", \"Fury\", \"Cobra\", \"Tempest\", \"Leo\", \"Scythe\"]"
   ]
  },
  {
   "cell_type": "code",
   "execution_count": 203,
   "metadata": {},
   "outputs": [
    {
     "name": "stdout",
     "output_type": "stream",
     "text": [
      "Orion Barracuda\n",
      "Orion Amethyst\n",
      "Orion Blade\n",
      "Orion Wasp\n",
      "Orion Nemesis\n",
      "Orion Fury\n",
      "Orion Cobra\n",
      "Orion Tempest\n",
      "Orion Leo\n",
      "Orion Scythe\n",
      "Barracuda Amethyst\n",
      "Barracuda Blade\n",
      "Barracuda Wasp\n",
      "Barracuda Nemesis\n",
      "Barracuda Fury\n",
      "Barracuda Cobra\n",
      "Barracuda Tempest\n",
      "Barracuda Leo\n",
      "Barracuda Scythe\n",
      "Amethyst Blade\n",
      "Amethyst Wasp\n",
      "Amethyst Nemesis\n",
      "Amethyst Fury\n",
      "Amethyst Cobra\n",
      "Amethyst Tempest\n",
      "Amethyst Leo\n",
      "Amethyst Scythe\n",
      "Blade Wasp\n",
      "Blade Nemesis\n",
      "Blade Fury\n",
      "Blade Cobra\n",
      "Blade Tempest\n",
      "Blade Leo\n",
      "Blade Scythe\n",
      "Wasp Nemesis\n",
      "Wasp Fury\n",
      "Wasp Cobra\n",
      "Wasp Tempest\n",
      "Wasp Leo\n",
      "Wasp Scythe\n",
      "Nemesis Fury\n",
      "Nemesis Cobra\n",
      "Nemesis Tempest\n",
      "Nemesis Leo\n",
      "Nemesis Scythe\n",
      "Fury Cobra\n",
      "Fury Tempest\n",
      "Fury Leo\n",
      "Fury Scythe\n",
      "Cobra Tempest\n",
      "Cobra Leo\n",
      "Cobra Scythe\n",
      "Tempest Leo\n",
      "Tempest Scythe\n",
      "Leo Scythe\n"
     ]
    }
   ],
   "source": [
    "for i in range(len(name_list)):\n",
    "    for j in range(i+1, len(name_list)):\n",
    "        print(f'{name_list[i]} {name_list[j]}')"
   ]
  },
  {
   "cell_type": "code",
   "execution_count": 204,
   "metadata": {},
   "outputs": [],
   "source": [
    "register = [\"Gunther\", \"karzan\", \"pip1do\", \"amelia\", \"emma\", \"jarzk\", \"P0ppy\", \"gunther\", \"Daisy\",\" Demelza \", \"Lisa \", \"garzon \", \"marz4\"]"
   ]
  },
  {
   "cell_type": "code",
   "execution_count": 205,
   "metadata": {},
   "outputs": [
    {
     "name": "stdout",
     "output_type": "stream",
     "text": [
      "Humans: ['amelia', 'daisy', 'emma', 'demelza', 'lisa']\n",
      "Aliens: ['p0ppy', 'pip1do', 'karzan', 'marz4', 'garzon', 'jarzk', 'gunther']\n"
     ]
    }
   ],
   "source": [
    "for i in range(len(register)):\n",
    "    register[i] = register[i].strip().lower()   \n",
    "register = set(register)\n",
    "Humans = []\n",
    "Aliens = []\n",
    "\n",
    "for name in register:\n",
    "    name = name.strip()\n",
    "    name_list = list(name)\n",
    "    digit = False\n",
    "    for i in name_list:\n",
    "        if i.isdigit():\n",
    "            digit = True\n",
    "    if name[0] == 'g':\n",
    "        Aliens.append(name)\n",
    "    elif 'arz' in name:\n",
    "        Aliens.append(name)\n",
    "    elif digit == True:\n",
    "        Aliens.append(name)\n",
    "    else:\n",
    "        Humans.append(name)\n",
    "print(f'Humans: {Humans}')\n",
    "print(f'Aliens: {Aliens}')"
   ]
  },
  {
   "cell_type": "code",
   "execution_count": 206,
   "metadata": {},
   "outputs": [],
   "source": [
    "aliens_dict = {}\n",
    "for name in Aliens:\n",
    "    name_list = list(name)\n",
    "    digit = False\n",
    "    for i in name_list:\n",
    "        if i.isdigit():\n",
    "            digit = True\n",
    "    if name[0] == 'g' and 'arz' in name:\n",
    "        aliens_dict[name] = 75\n",
    "    elif name[0] == 'g':\n",
    "        aliens_dict[name] = 25\n",
    "    elif 'arz' in name:\n",
    "        aliens_dict[name] = 50\n",
    "    elif digit == True:\n",
    "        aliens_dict[name] = 100\n",
    "    "
   ]
  },
  {
   "cell_type": "code",
   "execution_count": 207,
   "metadata": {},
   "outputs": [
    {
     "data": {
      "text/plain": [
       "{'p0ppy': 100,\n",
       " 'pip1do': 100,\n",
       " 'karzan': 50,\n",
       " 'marz4': 50,\n",
       " 'garzon': 75,\n",
       " 'jarzk': 50,\n",
       " 'gunther': 25}"
      ]
     },
     "execution_count": 207,
     "metadata": {},
     "output_type": "execute_result"
    }
   ],
   "source": [
    "aliens_dict"
   ]
  },
  {
   "cell_type": "code",
   "execution_count": 208,
   "metadata": {},
   "outputs": [],
   "source": [
    "your_districts = ['I', 'IV', 'V', 'I', 'VI', 'IX', 'X', 'II', 'III', 'I']\n",
    "their_districts = ['V', 'IV', 'VI', 'XII', 'VII', 'IV', 'VI', 'VIII', 'III']"
   ]
  },
  {
   "cell_type": "code",
   "execution_count": 209,
   "metadata": {},
   "outputs": [
    {
     "name": "stdout",
     "output_type": "stream",
     "text": [
      "Common districts: {'V', 'VI', 'III', 'IV'}\n"
     ]
    }
   ],
   "source": [
    "your_districts = set(your_districts)\n",
    "their_districts = set(their_districts)\n",
    "\n",
    "common_districts = your_districts.intersection(their_districts)\n",
    "print(f'Common districts: {common_districts}')"
   ]
  },
  {
   "cell_type": "code",
   "execution_count": 210,
   "metadata": {},
   "outputs": [],
   "source": [
    "patrolled_districts = ['I', 'II', 'XII', 'IX', 'XI', 'IV', 'II', 'VI']"
   ]
  },
  {
   "cell_type": "code",
   "execution_count": 211,
   "metadata": {},
   "outputs": [
    {
     "name": "stdout",
     "output_type": "stream",
     "text": [
      "Unpatrolled districts: {'V', 'III'}\n"
     ]
    }
   ],
   "source": [
    "patrolled_districts = set(patrolled_districts)\n",
    "unpatrolled_districts = common_districts.difference(patrolled_districts)\n",
    "print(f'Unpatrolled districts: {unpatrolled_districts}')"
   ]
  },
  {
   "cell_type": "code",
   "execution_count": 212,
   "metadata": {},
   "outputs": [],
   "source": [
    "commanders = {(4, \"Barzak\"), (2, \"Donesia\"), (5, \"Zeroza\"), (1, \"Yggacia\"), (3, \"Larzon\")}"
   ]
  },
  {
   "cell_type": "code",
   "execution_count": 213,
   "metadata": {},
   "outputs": [
    {
     "name": "stdout",
     "output_type": "stream",
     "text": [
      "Sorted commanders: [(1, 'Yggacia'), (2, 'Donesia'), (3, 'Larzon'), (4, 'Barzak'), (5, 'Zeroza')]\n",
      "Sorted commanders: [(4, 'Barzak'), (2, 'Donesia'), (3, 'Larzon'), (1, 'Yggacia'), (5, 'Zeroza')]\n"
     ]
    }
   ],
   "source": [
    "commanders_rank = sorted(commanders)\n",
    "print(f'Sorted commanders: {commanders_rank}') \n",
    "commanders_name = sorted(commanders, key = lambda x: x[1])\n",
    "print(f'Sorted commanders: {commanders_name}')"
   ]
  },
  {
   "cell_type": "code",
   "execution_count": 214,
   "metadata": {},
   "outputs": [
    {
     "name": "stdout",
     "output_type": "stream",
     "text": [
      "Danger level - 8\n",
      "Danger level - 6\n",
      "Danger level - 6\n",
      "Danger level - 10\n",
      "Danger level - 7\n"
     ]
    }
   ],
   "source": [
    "class Commander:\n",
    "    def __init__(self, name, rank, weight, height, age):\n",
    "        self.name = name\n",
    "        self.rank = rank\n",
    "        self.weight = weight\n",
    "        self.height = height\n",
    "        self.age = age\n",
    "\n",
    "    def calculate_danger(self):\n",
    "        return round((self.weight + self.height) / self.age)\n",
    "    \n",
    "for commander in commanders:\n",
    "    name = commander[1]\n",
    "    rank = commander[0]\n",
    "    weight = 0\n",
    "    height = 0\n",
    "    age = 0\n",
    "    if name == \"Barzak\":\n",
    "        weight = 75\n",
    "        height = 180\n",
    "        age = 25\n",
    "    elif name == \"Donesia\":\n",
    "        weight = 50\n",
    "        height = 160\n",
    "        age = 30\n",
    "    elif name == \"Zeroza\":\n",
    "        weight = 100\n",
    "        height = 190\n",
    "        age = 35\n",
    "    elif name == \"Yggacia\":\n",
    "        weight = 65\n",
    "        height = 170\n",
    "        age = 40\n",
    "    elif name == \"Larzon\":\n",
    "        weight = 85\n",
    "        height = 175\n",
    "        age = 45\n",
    "    commander = Commander(name, rank, weight, height, age)\n",
    "    print(f'Danger level - {commander.calculate_danger()}')\n",
    "    "
   ]
  },
  {
   "cell_type": "code",
   "execution_count": 215,
   "metadata": {},
   "outputs": [],
   "source": [
    "test_ids = [\"ABC1234\", \"sbaz56\", \"Wuy1452\", \"TYP9006\", \"KZED439\"]"
   ]
  },
  {
   "cell_type": "code",
   "execution_count": 216,
   "metadata": {},
   "outputs": [
    {
     "name": "stdout",
     "output_type": "stream",
     "text": [
      "Valid IDs: ['ABC1234', 'TYP9006']\n"
     ]
    }
   ],
   "source": [
    "valid_ids = []\n",
    "\n",
    "for test_id in test_ids:\n",
    "    part_1 = test_id[0:3]\n",
    "    part_2 = test_id[3:]\n",
    "    if part_1.isalpha() and part_1.isupper() and part_2.isdigit():\n",
    "        valid_ids.append(test_id)\n",
    "print(f'Valid IDs: {valid_ids}')"
   ]
  }
 ],
 "metadata": {
  "kernelspec": {
   "display_name": ".venv",
   "language": "python",
   "name": "python3"
  },
  "language_info": {
   "codemirror_mode": {
    "name": "ipython",
    "version": 3
   },
   "file_extension": ".py",
   "mimetype": "text/x-python",
   "name": "python",
   "nbconvert_exporter": "python",
   "pygments_lexer": "ipython3",
   "version": "3.12.2"
  }
 },
 "nbformat": 4,
 "nbformat_minor": 2
}
